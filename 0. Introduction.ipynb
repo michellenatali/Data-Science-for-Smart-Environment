{
 "cells": [
  {
   "cell_type": "markdown",
   "id": "021510e0-86e7-4ed7-8cd4-250492b9b2e9",
   "metadata": {},
   "source": [
    "# Introduction "
   ]
  },
  {
   "cell_type": "markdown",
   "id": "5073b407-784a-4eb4-b660-0c9550109c86",
   "metadata": {},
   "source": [
    "## Background and Motivation"
   ]
  },
  {
   "cell_type": "markdown",
   "id": "41fa7de3-4988-40ce-bc9c-9271afa424e2",
   "metadata": {},
   "source": [
    "<blockquote> Environmental data is extremely rich, encompassing both real-time data from sensors and monthly or yearly manually collected samples. In my opinion, not all this data is currently being utilized to its full potential. For instance, when I was working on my bachelor thesis, I developed a quantitative approach to depict the environmental health conditions of 5 Rural Areas on Java Island. I utilized various environmental data sets, including Air Quality, Water Quality, Biodiversity Index, Forest Cover, Environmental Health, and Public Health. At that time, lacking prior knowledge in data science, I merely processed the data only to understand the current conditions. However, it's worth noting that we have the capability to translate this data \n",
    "into valuable insights for addressing future challenges and improving decision-making </blockquote>"
   ]
  },
  {
   "cell_type": "markdown",
   "id": "a0f18c3e-522d-461b-a8f4-c9d03034f2ea",
   "metadata": {},
   "source": [
    "#### Following the completion of this course, I aspire to accomplish the following four individual goals: ###"
   ]
  },
  {
   "cell_type": "markdown",
   "id": "b91471c8-68df-4d1e-9d0b-dcd98d6a3bb3",
   "metadata": {},
   "source": [
    "**1. Enhance Data Exploratory Analysis skills with Pandas**"
   ]
  },
  {
   "cell_type": "markdown",
   "id": "85a2abf8-65f4-4447-9517-81c517746878",
   "metadata": {},
   "source": [
    "I am determined to identify relevant data sources and tackle incomplete or noisy datasets to ensure data accuracy. I am new to data science and have been managing it manually, I have started learning to use JupyterLab and utilize Pandas this week. My guide is \"Introduction to Python for Data Sciences\" by Frank Lutzler, and I'll begin by applying \n",
    "these steps to our project data: importing the Pandas library, reading data, exploring data, handling missing data, removing duplicates, and connecting and merging/concatenating data."
   ]
  },
  {
   "cell_type": "markdown",
   "id": "66be6ce9-f07d-4bb7-a911-106c6c43698c",
   "metadata": {},
   "source": [
    "**2. Mastering informative visualization with Matplotlib and Seaborn**"
   ]
  },
  {
   "cell_type": "markdown",
   "id": "1cb85f69-3e41-4b5e-9032-2d95afeb543b",
   "metadata": {},
   "source": [
    "My objective is to proficiently create visualizations that capture key data aspects using \n",
    "Matplotlib and Seaborn. I believe that presenting visually engaging and easily understandable visualizations is crucial for effective communication and decision making with stakeholders. I will start learning by experimenting our data with visualizations and choose which one is the best fit to inform the data."
   ]
  },
  {
   "cell_type": "markdown",
   "id": "e7f54260-9d9a-4bd7-90d8-7e7b2d575781",
   "metadata": {},
   "source": [
    "**3. Predicting data through Feature Engineering and Machine Learning.**"
   ]
  },
  {
   "cell_type": "markdown",
   "id": "23596b27-31cd-4561-a5e3-59f9fa153b00",
   "metadata": {},
   "source": [
    "Gain a comprehensive understanding of machine learning principles and methodologies, focusing on their broad applicability. Acquire proficiency in preprocessing and feature engineering, execute single-model training using scikit-learn and CatBoost, understand hyperparameter concepts and evaluate models using Mean Absolute Error (MAE)."
   ]
  }
 ],
 "metadata": {
  "kernelspec": {
   "display_name": "Python 3 (ipykernel)",
   "language": "python",
   "name": "python3"
  },
  "language_info": {
   "codemirror_mode": {
    "name": "ipython",
    "version": 3
   },
   "file_extension": ".py",
   "mimetype": "text/x-python",
   "name": "python",
   "nbconvert_exporter": "python",
   "pygments_lexer": "ipython3",
   "version": "3.11.5"
  }
 },
 "nbformat": 4,
 "nbformat_minor": 5
}
